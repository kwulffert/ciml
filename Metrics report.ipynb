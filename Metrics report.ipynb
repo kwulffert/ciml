{
 "cells": [
  {
   "cell_type": "code",
   "execution_count": 40,
   "metadata": {},
   "outputs": [],
   "source": [
    "from ciml import gather_results\n",
    "from ciml import tf_trainer\n",
    "from sklearn.cluster import KMeans\n",
    "from sklearn.mixture import GaussianMixture\n",
    "import tensorflow as tf\n",
    "import matplotlib.pyplot as plt\n",
    "import numpy as np\n",
    "import pandas as pd\n",
    "from mpl_toolkits.mplot3d import Axes3D\n",
    "import matplotlib.cm as cmx\n",
    "import matplotlib.colors as pltcolors\n",
    "import matplotlib.pyplot as plt\n",
    "import plotly.express as px\n",
    "from plotly.subplots import make_subplots\n",
    "import collections\n",
    "from sqlalchemy import create_engine\n",
    "from sqlalchemy.orm import sessionmaker\n",
    "from subunit2sql.db import api\n",
    "from tensorflow.python.training import adagrad\n",
    "from sklearn.metrics import confusion_matrix\n",
    "from mlxtend.plotting import plot_confusion_matrix\n",
    "from sklearn.metrics import classification_report"
   ]
  },
  {
   "cell_type": "code",
   "execution_count": 22,
   "metadata": {},
   "outputs": [],
   "source": [
    "data_path = '/Users/kw/ciml_data/output/data'\n",
    "dataset = 'usr_used_1m-1min-status'\n",
    "experiment = 'dnn-3x100-1000epochs-bs128'\n",
    "file_name = 'prediction_usr_used_1m-1min-status'"
   ]
  },
  {
   "cell_type": "code",
   "execution_count": 23,
   "metadata": {},
   "outputs": [],
   "source": [
    "#Prediction_Data consists of EID, Pred, Class\n",
    "prediction_data = gather_results.load_data_json(dataset, file_name,\n",
    "        sub_folder=experiment, data_path=data_path)"
   ]
  },
  {
   "cell_type": "code",
   "execution_count": 25,
   "metadata": {},
   "outputs": [],
   "source": [
    "examples_id = [x[0] for x in prediction_data]\n",
    "pred_classes = [x[1]['class_ids'] for x in prediction_data]\n",
    "labels = [x[2] for x in prediction_data]"
   ]
  },
  {
   "cell_type": "code",
   "execution_count": 35,
   "metadata": {},
   "outputs": [
    {
     "data": {
      "text/plain": [
       "array([[740,   5],\n",
       "       [ 14,  32]])"
      ]
     },
     "execution_count": 35,
     "metadata": {},
     "output_type": "execute_result"
    }
   ],
   "source": [
    "#Generates confusion matrix\n",
    "confusion = confusion_matrix(labels,pred_classes)\n",
    "confusion"
   ]
  },
  {
   "cell_type": "code",
   "execution_count": 44,
   "metadata": {},
   "outputs": [
    {
     "data": {
      "image/png": "[encoded data removed]",
      "text/plain": [
       "<Figure size 432x288 with 2 Axes>"
      ]
     },
     "metadata": {
      "needs_background": "light"
     },
     "output_type": "display_data"
    }
   ],
   "source": [
    "#Plots confusion matrix\n",
    "class_names = ['passed','failed']\n",
    "#class_names = ['rax', 'ovh', 'packethost-us-west-1','vexxhost', 'limestone-regionone','inap-mtl01']\n",
    "fig, ax = plot_confusion_matrix(conf_mat=confusion,\n",
    "                                show_absolute=True,\n",
    "                                show_normed=True,\n",
    "                                colorbar=True,\n",
    "                                class_names=class_names)\n",
    "plt.show()"
   ]
  },
  {
   "cell_type": "code",
   "execution_count": 46,
   "metadata": {},
   "outputs": [
    {
     "name": "stdout",
     "output_type": "stream",
     "text": [
      "              precision    recall  f1-score   support\n",
      "\n",
      "      passed       0.98      0.99      0.99       745\n",
      "      failed       0.86      0.70      0.77        46\n",
      "\n",
      "    accuracy                           0.98       791\n",
      "   macro avg       0.92      0.84      0.88       791\n",
      "weighted avg       0.97      0.98      0.97       791\n",
      "\n"
     ]
    }
   ],
   "source": [
    "# Generate and print metrics report using sklearn\n",
    "# sklearn.metrics.classification_report(y_true, y_pred, labels=None, target_names=None, sample_weight=None, digits=2, output_dict=False)\n",
    "#The precision is the ratio tp / (tp + fp).\n",
    "#The precision is intuitively the ability of the classifier not to label as positive a sample that is negative.\n",
    "#The recall is the ratio tp / (tp + fn). \n",
    "#The recall is intuitively the ability of the classifier to find all the positive samples.\n",
    "#The F-beta score can be interpreted as a weighted harmonic mean of the precision and recall, \n",
    "#where an F-beta score reaches its best value at 1 and worst score at 0.\n",
    "#The F-beta score weights recall more than precision by a factor of beta. \n",
    "#beta == 1.0 means recall and precision are equally important.\n",
    "#F1 = 2 * (precision * recall) / (precision + recall)\n",
    "\n",
    "The support is the number of occurrences of each class in y_true.\n",
    "report = classification_report(labels, pred_classes, target_names = class_names)\n",
    "print(report)"
   ]
  },
  {
   "cell_type": "code",
   "execution_count": null,
   "metadata": {},
   "outputs": [],
   "source": []
  }
 ],
 "metadata": {
  "kernelspec": {
   "display_name": "Python 3",
   "language": "python",
   "name": "python3"
  },
  "language_info": {
   "codemirror_mode": {
    "name": "ipython",
    "version": 3
   },
   "file_extension": ".py",
   "mimetype": "text/x-python",
   "name": "python",
   "nbconvert_exporter": "python",
   "pygments_lexer": "ipython3",
   "version": "3.6.4"
  }
 },
 "nbformat": 4,
 "nbformat_minor": 2
}
